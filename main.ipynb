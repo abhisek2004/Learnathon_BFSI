{
 "cells": [
  {
   "cell_type": "markdown",
   "id": "8c868982",
   "metadata": {},
   "source": [
    "# Step 1: Load Required Libraries\n",
    "We start by importing the necessary libraries for data handling, visualization, and machine learning.\n"
   ]
  },
  {
   "cell_type": "code",
   "execution_count": 1,
   "id": "483f3187",
   "metadata": {},
   "outputs": [],
   "source": [
    "import pandas as pd\n",
    "import numpy as np\n",
    "import matplotlib.pyplot as plt\n",
    "import seaborn as sns\n",
    "\n",
    "# For model preparation later\n",
    "from sklearn.model_selection import train_test_split"
   ]
  },
  {
   "cell_type": "markdown",
   "id": "5011d167",
   "metadata": {},
   "source": [
    "# Step 2: Load Train, Test, and Evaluation Datasets\n",
    "We have three separate datasets: one for training, one for testing, and one for final evaluation."
   ]
  },
  {
   "cell_type": "code",
   "execution_count": 24,
   "id": "e6189720",
   "metadata": {},
   "outputs": [],
   "source": [
    "# Reload the datasets to restore Fraud_Ind\n",
    "train_df = pd.read_csv(\"dataset1.csv\")\n",
    "test_df = pd.read_csv(\"dataset2.csv\")\n",
    "\n",
    "# Convert Fraud_Ind safely\n",
    "for df in [train_df, test_df]:\n",
    "    if df['Fraud_Ind'].dtype == 'object':\n",
    "        df['Fraud_Ind'] = df['Fraud_Ind'].map({'Y': 1, 'N': 0})"
   ]
  },
  {
   "cell_type": "markdown",
   "id": "4832a848",
   "metadata": {},
   "source": [
    "# Step 3: Initial Data Inspection\n",
    "Before preprocessing, let's check:\n",
    "- Column names and data types\n",
    "- Missing values\n",
    "- Target column distribution (Fraud_Ind)"
   ]
  },
  {
   "cell_type": "code",
   "execution_count": 27,
   "id": "523833d6",
   "metadata": {},
   "outputs": [
    {
     "name": "stdout",
     "output_type": "stream",
     "text": [
      "<class 'pandas.core.frame.DataFrame'>\n",
      "RangeIndex: 40000 entries, 0 to 39999\n",
      "Data columns (total 70 columns):\n",
      " #   Column                               Non-Null Count  Dtype  \n",
      "---  ------                               --------------  -----  \n",
      " 0   Claim_ID                             40000 non-null  object \n",
      " 1   Bind_Date1                           40000 non-null  object \n",
      " 2   Customer_Life_Value1                 40000 non-null  int64  \n",
      " 3   Age_Insured                          40000 non-null  int64  \n",
      " 4   Policy_Num                           40000 non-null  int64  \n",
      " 5   Policy_State                         40000 non-null  object \n",
      " 6   Policy_Start_Date                    40000 non-null  object \n",
      " 7   Policy_Expiry_Date                   40000 non-null  object \n",
      " 8   Policy_BI                            40000 non-null  float64\n",
      " 9   Policy_Ded                           40000 non-null  int64  \n",
      " 10  Policy_Premium                       40000 non-null  float64\n",
      " 11  Umbrella_Limit                       40000 non-null  int64  \n",
      " 12  Insured_Zip                          40000 non-null  int64  \n",
      " 13  Gender                               40000 non-null  object \n",
      " 14  Education                            40000 non-null  object \n",
      " 15  Occupation                           40000 non-null  object \n",
      " 16  Hobbies                              40000 non-null  object \n",
      " 17  Insured_Relationship                 40000 non-null  object \n",
      " 18  Capital_Gains                        40000 non-null  int64  \n",
      " 19  Capital_Loss                         40000 non-null  int64  \n",
      " 20  Garage_Location                      40000 non-null  object \n",
      " 21  Accident_Date                        40000 non-null  object \n",
      " 22  Accident_Type                        40000 non-null  object \n",
      " 23  Collision_Type                       40000 non-null  object \n",
      " 24  Accident_Severity                    40000 non-null  object \n",
      " 25  authorities_contacted                40000 non-null  object \n",
      " 26  Acccident_State                      40000 non-null  object \n",
      " 27  Acccident_City                       40000 non-null  object \n",
      " 28  Accident_Location                    40000 non-null  object \n",
      " 29  Accident_Hour                        40000 non-null  int64  \n",
      " 30  Num_of_Vehicles_Involved             40000 non-null  int64  \n",
      " 31  Property_Damage                      40000 non-null  object \n",
      " 32  Bodily_Injuries                      40000 non-null  int64  \n",
      " 33  Witnesses                            40000 non-null  int64  \n",
      " 34  Police_Report                        40000 non-null  object \n",
      " 35  DL_Expiry_Date                       40000 non-null  object \n",
      " 36  Claims_Date                          40000 non-null  object \n",
      " 37  Auto_Make                            40000 non-null  object \n",
      " 38  Auto_Model                           40000 non-null  object \n",
      " 39  Auto_Year                            40000 non-null  int64  \n",
      " 40  Vehicle_Color                        40000 non-null  object \n",
      " 41  Vehicle_Cost                         40000 non-null  float64\n",
      " 42  Annual_Mileage                       40000 non-null  int64  \n",
      " 43  DiffIN_Mileage                       40000 non-null  int64  \n",
      " 44  Low_Mileage_Discount                 40000 non-null  int64  \n",
      " 45  Fraud_Ind                            40000 non-null  int64  \n",
      " 46  Commute_Discount                     40000 non-null  int64  \n",
      " 47  Total_Claim                          40000 non-null  float64\n",
      " 48  Injury_Claim                         40000 non-null  float64\n",
      " 49  Property_Claim                       40000 non-null  float64\n",
      " 50  Vehicle_Claim                        40000 non-null  float64\n",
      " 51  Vehicle_Registration                 40000 non-null  object \n",
      " 52  Check_Point                          40000 non-null  object \n",
      " 53  Days_Between_Policy_Start_and_Claim  40000 non-null  int64  \n",
      " 54  Days_To_Policy_Expiry                40000 non-null  int64  \n",
      " 55  Policy_Duration                      40000 non-null  int64  \n",
      " 56  Policy_Premium_to_Coverage_Ratio     40000 non-null  float64\n",
      " 57  High_Deductible_Flag                 40000 non-null  int64  \n",
      " 58  Days_Between_Accident_and_Claim      40000 non-null  int64  \n",
      " 59  Weekend_Accident                     40000 non-null  int64  \n",
      " 60  Night_Accident                       40000 non-null  int64  \n",
      " 61  Accident_To_Policy_Start_Gap         40000 non-null  int64  \n",
      " 62  Vehicle_Age                          40000 non-null  int64  \n",
      " 63  High_Mileage_Flag                    40000 non-null  int64  \n",
      " 64  Mileage_Change                       40000 non-null  float64\n",
      " 65  Claim_Amount_to_Vehicle_Cost_Ratio   40000 non-null  float64\n",
      " 66  Claim_Severity_Index                 40000 non-null  float64\n",
      " 67  Multiple_Claims_Flag                 40000 non-null  int64  \n",
      " 68  Out_of_State_Claim                   40000 non-null  int64  \n",
      " 69  Garage_Location_Mismatch             40000 non-null  int64  \n",
      "dtypes: float64(11), int64(31), object(28)\n",
      "memory usage: 21.4+ MB\n",
      "\n",
      "Missing values in training set:\n",
      "Claim_ID                              0\n",
      "Bind_Date1                            0\n",
      "Customer_Life_Value1                  0\n",
      "Age_Insured                           0\n",
      "Policy_Num                            0\n",
      "                                     ..\n",
      "Claim_Amount_to_Vehicle_Cost_Ratio    0\n",
      "Claim_Severity_Index                  0\n",
      "Multiple_Claims_Flag                  0\n",
      "Out_of_State_Claim                    0\n",
      "Garage_Location_Mismatch              0\n",
      "Length: 70, dtype: int64\n",
      "\n",
      "Target column distribution (Fraud_Ind):\n",
      "Fraud_Ind\n",
      "0    30120\n",
      "1     9880\n",
      "Name: count, dtype: int64\n"
     ]
    }
   ],
   "source": [
    "# Check column info\n",
    "train_df.info()\n",
    "\n",
    "# Check for missing values\n",
    "print(\"\\nMissing values in training set:\")\n",
    "print(train_df.isnull().sum())\n",
    "\n",
    "# Target column distribution\n",
    "print(\"\\nTarget column distribution (Fraud_Ind):\")\n",
    "print(train_df['Fraud_Ind'].value_counts())"
   ]
  },
  {
   "cell_type": "code",
   "execution_count": 29,
   "id": "48d0ec6e",
   "metadata": {},
   "outputs": [],
   "source": [
    "# Clean training and test data\n",
    "for df in [train_df, test_df]:\n",
    "    # 1. Fill numeric columns with median\n",
    "    numeric_cols = df.select_dtypes(include=['int64', 'float64']).columns.drop('Fraud_Ind')\n",
    "    df[numeric_cols] = df[numeric_cols].apply(lambda col: col.fillna(col.median()))\n",
    "    \n",
    "    # 2. Fill categorical columns with mode\n",
    "    categorical_cols = df.select_dtypes(include=['object']).columns\n",
    "    df[categorical_cols] = df[categorical_cols].apply(lambda col: col.fillna(col.mode()[0]))\n"
   ]
  },
  {
   "cell_type": "code",
   "execution_count": 30,
   "id": "4c3dac32",
   "metadata": {},
   "outputs": [
    {
     "name": "stdout",
     "output_type": "stream",
     "text": [
      "0\n",
      "0\n"
     ]
    }
   ],
   "source": [
    "print(train_df.isna().sum().sum())\n",
    "print(test_df.isna().sum().sum())"
   ]
  },
  {
   "cell_type": "markdown",
   "id": "6ead4d4b",
   "metadata": {},
   "source": [
    "# Step 4: Data Cleaning\n",
    "- Convert `Fraud_Ind` to numeric (Y → 1, N → 0).\n",
    "- Drop ID columns and redundant date fields that don't help in prediction."
   ]
  },
  {
   "cell_type": "code",
   "execution_count": 28,
   "id": "c97082e6",
   "metadata": {},
   "outputs": [
    {
     "name": "stdout",
     "output_type": "stream",
     "text": [
      "Fraud_Ind\n",
      "0    30120\n",
      "1     9880\n",
      "Name: count, dtype: int64\n",
      "Fraud_Ind\n",
      "0    14680\n",
      "1     5320\n",
      "Name: count, dtype: int64\n"
     ]
    }
   ],
   "source": [
    "print(train_df['Fraud_Ind'].value_counts())\n",
    "print(test_df['Fraud_Ind'].value_counts())"
   ]
  },
  {
   "cell_type": "code",
   "execution_count": 31,
   "id": "60b8be44",
   "metadata": {},
   "outputs": [
    {
     "name": "stdout",
     "output_type": "stream",
     "text": [
      "Shape after encoding - Train: (40000, 95) Test: (20000, 95)\n"
     ]
    }
   ],
   "source": [
    "# Drop IDs and redundant date columns\n",
    "drop_cols = ['Claim_ID', 'Policy_Num', 'Vehicle_Registration',\n",
    "             'Bind_Date1', 'Policy_Start_Date', 'Policy_Expiry_Date',\n",
    "             'Accident_Date', 'Claims_Date', 'DL_Expiry_Date']\n",
    "train_df = train_df.drop(columns=drop_cols, errors='ignore')\n",
    "test_df = test_df.drop(columns=drop_cols, errors='ignore')\n",
    "\n",
    "# Identify categorical columns\n",
    "categorical_cols = train_df.select_dtypes(include=['object']).columns.tolist()\n",
    "\n",
    "# Encode categorical columns\n",
    "from sklearn.preprocessing import LabelEncoder\n",
    "label_enc = LabelEncoder()\n",
    "\n",
    "for col in categorical_cols:\n",
    "    if train_df[col].nunique() > 10:  # Many categories -> LabelEncode\n",
    "        train_df[col] = label_enc.fit_transform(train_df[col])\n",
    "        test_df[col] = label_enc.transform(test_df[col])\n",
    "    else:  # Few categories -> One-hot encode\n",
    "        train_df = pd.get_dummies(train_df, columns=[col], drop_first=True)\n",
    "        test_df = pd.get_dummies(test_df, columns=[col], drop_first=True)\n",
    "\n",
    "# Align train and test columns\n",
    "train_df, test_df = train_df.align(test_df, join='left', axis=1, fill_value=0)\n",
    "\n",
    "print(\"Shape after encoding - Train:\", train_df.shape, \"Test:\", test_df.shape)"
   ]
  },
  {
   "cell_type": "markdown",
   "id": "19398447",
   "metadata": {},
   "source": [
    "# Step 5: Feature Engineering & Encoding\n",
    "- Separate features (X) and target (y).\n",
    "- Identify categorical vs. numeric columns.\n",
    "- Apply encoding:\n",
    "  - Label encode high-cardinality categorical columns.\n",
    "  - One-hot encode low-cardinality categorical columns."
   ]
  },
  {
   "cell_type": "code",
   "execution_count": 32,
   "id": "d59eb557",
   "metadata": {},
   "outputs": [
    {
     "name": "stdout",
     "output_type": "stream",
     "text": [
      "Train target distribution:\n",
      " Fraud_Ind\n",
      "0    30120\n",
      "1     9880\n",
      "Name: count, dtype: int64\n",
      "Test target distribution:\n",
      " Fraud_Ind\n",
      "0    14680\n",
      "1     5320\n",
      "Name: count, dtype: int64\n"
     ]
    }
   ],
   "source": [
    "# Step 5.1: Split features and target\n",
    "X_train = train_df.drop('Fraud_Ind', axis=1)\n",
    "y_train = train_df['Fraud_Ind']\n",
    "\n",
    "X_test = test_df.drop('Fraud_Ind', axis=1)\n",
    "y_test = test_df['Fraud_Ind']\n",
    "\n",
    "# Confirm target distribution\n",
    "print(\"Train target distribution:\\n\", y_train.value_counts())\n",
    "print(\"Test target distribution:\\n\", y_test.value_counts())"
   ]
  },
  {
   "cell_type": "markdown",
   "id": "87f0ed03",
   "metadata": {},
   "source": [
    "# Step 6: Model Training & Comparison\n",
    "We train 7 machine learning models on the training dataset, handling class imbalance and missing values, and compare their performance."
   ]
  },
  {
   "cell_type": "code",
   "execution_count": 35,
   "id": "3c3e694d",
   "metadata": {},
   "outputs": [
    {
     "name": "stderr",
     "output_type": "stream",
     "text": [
      "c:\\Users\\rajat\\AppData\\Local\\Programs\\Python\\Python313\\Lib\\site-packages\\sklearn\\linear_model\\_logistic.py:465: ConvergenceWarning: lbfgs failed to converge (status=1):\n",
      "STOP: TOTAL NO. of ITERATIONS REACHED LIMIT.\n",
      "\n",
      "Increase the number of iterations (max_iter) or scale the data as shown in:\n",
      "    https://scikit-learn.org/stable/modules/preprocessing.html\n",
      "Please also refer to the documentation for alternative solver options:\n",
      "    https://scikit-learn.org/stable/modules/linear_model.html#logistic-regression\n",
      "  n_iter_i = _check_optimize_result(\n",
      "c:\\Users\\rajat\\AppData\\Local\\Programs\\Python\\Python313\\Lib\\site-packages\\xgboost\\training.py:183: UserWarning: [22:39:52] WARNING: C:\\actions-runner\\_work\\xgboost\\xgboost\\src\\learner.cc:738: \n",
      "Parameters: { \"use_label_encoder\" } are not used.\n",
      "\n",
      "  bst.update(dtrain, iteration=i, fobj=obj)\n"
     ]
    },
    {
     "name": "stdout",
     "output_type": "stream",
     "text": [
      "                 Model  Accuracy  Precision    Recall  F1 Score   ROC-AUC\n",
      "1        Decision Tree   1.00000   1.000000  1.000000  1.000000  1.000000\n",
      "2        Random Forest   1.00000   1.000000  1.000000  1.000000  1.000000\n",
      "6              XGBoost   1.00000   1.000000  1.000000  1.000000  1.000000\n",
      "3    Gradient Boosting   0.95090   0.967054  0.844173  0.901445  0.916875\n",
      "5                  KNN   0.91405   0.892180  0.769925  0.826556  0.868103\n",
      "4             AdaBoost   0.81880   0.694495  0.569173  0.625620  0.739219\n",
      "0  Logistic Regression   0.57485   0.274415  0.363910  0.312889  0.507602\n"
     ]
    }
   ],
   "source": [
    "from sklearn.linear_model import LogisticRegression\n",
    "from sklearn.tree import DecisionTreeClassifier\n",
    "from sklearn.ensemble import RandomForestClassifier, GradientBoostingClassifier, AdaBoostClassifier\n",
    "from sklearn.neighbors import KNeighborsClassifier\n",
    "from xgboost import XGBClassifier\n",
    "\n",
    "from sklearn.metrics import accuracy_score, precision_score, recall_score, f1_score, roc_auc_score\n",
    "import pandas as pd\n",
    "\n",
    "models = {\n",
    "    \"Logistic Regression\": LogisticRegression(class_weight='balanced', random_state=42),\n",
    "    \"Decision Tree\": DecisionTreeClassifier(random_state=42),\n",
    "    \"Random Forest\": RandomForestClassifier(random_state=42),\n",
    "    \"Gradient Boosting\": GradientBoostingClassifier(random_state=42),\n",
    "    \"AdaBoost\": AdaBoostClassifier(random_state=42),\n",
    "    \"KNN\": KNeighborsClassifier(),\n",
    "    \"XGBoost\": XGBClassifier(use_label_encoder=False, eval_metric='logloss', random_state=42)\n",
    "}\n",
    "\n",
    "results = []\n",
    "\n",
    "for name, model in models.items():\n",
    "    model.fit(X_train, y_train)\n",
    "    y_pred = model.predict(X_test)\n",
    "    \n",
    "    results.append([\n",
    "        name,\n",
    "        accuracy_score(y_test, y_pred),\n",
    "        precision_score(y_test, y_pred),\n",
    "        recall_score(y_test, y_pred),\n",
    "        f1_score(y_test, y_pred),\n",
    "        roc_auc_score(y_test, y_pred)\n",
    "    ])\n",
    "\n",
    "results_df = pd.DataFrame(results, columns=[\"Model\", \"Accuracy\", \"Precision\", \"Recall\", \"F1 Score\", \"ROC-AUC\"])\n",
    "print(results_df.sort_values(by=\"ROC-AUC\", ascending=False))\n"
   ]
  },
  {
   "cell_type": "markdown",
   "id": "e4d1ebad",
   "metadata": {},
   "source": [
    "Optimize KNN"
   ]
  },
  {
   "cell_type": "code",
   "execution_count": 39,
   "id": "b7d73d74",
   "metadata": {},
   "outputs": [
    {
     "name": "stdout",
     "output_type": "stream",
     "text": [
      "Best Parameters: {'metric': 'manhattan', 'n_neighbors': 5, 'weights': 'distance'}\n",
      "Best F1 Score: 0.8966996555672256\n"
     ]
    }
   ],
   "source": [
    "from sklearn.neighbors import KNeighborsClassifier\n",
    "from sklearn.model_selection import GridSearchCV\n",
    "\n",
    "# Define parameter grid for KNN\n",
    "param_grid = {\n",
    "    'n_neighbors': [3, 5, 7, 9, 11],\n",
    "    'weights': ['uniform', 'distance'],\n",
    "    'metric': ['euclidean', 'manhattan', 'minkowski']\n",
    "}\n",
    "\n",
    "# Initialize KNN\n",
    "knn = KNeighborsClassifier()\n",
    "\n",
    "# Grid search with 5-fold cross-validation\n",
    "grid_search = GridSearchCV(knn, param_grid, cv=5, scoring='f1', n_jobs=-1)\n",
    "grid_search.fit(X_train, y_train)\n",
    "\n",
    "# Best model\n",
    "best_knn = grid_search.best_estimator_\n",
    "\n",
    "print(\"Best Parameters:\", grid_search.best_params_)\n",
    "print(\"Best F1 Score:\", grid_search.best_score_)"
   ]
  },
  {
   "cell_type": "markdown",
   "id": "68c8fe1b",
   "metadata": {},
   "source": [
    "evaluate the tuned KNN model"
   ]
  },
  {
   "cell_type": "code",
   "execution_count": 40,
   "id": "7866cb18",
   "metadata": {},
   "outputs": [
    {
     "name": "stdout",
     "output_type": "stream",
     "text": [
      "Accuracy: 0.95275\n",
      "Precision: 0.9500102859493931\n",
      "Recall: 0.8680451127819548\n",
      "F1 Score: 0.907180041253315\n",
      "ROC-AUC: 0.9257459896334842\n",
      "\n",
      "Confusion Matrix:\n",
      "[[14437   243]\n",
      " [  702  4618]]\n",
      "\n",
      "Classification Report:\n",
      "              precision    recall  f1-score   support\n",
      "\n",
      "           0       0.95      0.98      0.97     14680\n",
      "           1       0.95      0.87      0.91      5320\n",
      "\n",
      "    accuracy                           0.95     20000\n",
      "   macro avg       0.95      0.93      0.94     20000\n",
      "weighted avg       0.95      0.95      0.95     20000\n",
      "\n"
     ]
    }
   ],
   "source": [
    "from sklearn.metrics import accuracy_score, precision_score, recall_score, f1_score, roc_auc_score, confusion_matrix, classification_report\n",
    "\n",
    "# Predict on test data\n",
    "y_pred = best_knn.predict(X_test)\n",
    "\n",
    "# Evaluate\n",
    "print(\"Accuracy:\", accuracy_score(y_test, y_pred))\n",
    "print(\"Precision:\", precision_score(y_test, y_pred))\n",
    "print(\"Recall:\", recall_score(y_test, y_pred))\n",
    "print(\"F1 Score:\", f1_score(y_test, y_pred))\n",
    "print(\"ROC-AUC:\", roc_auc_score(y_test, y_pred))\n",
    "\n",
    "# Confusion Matrix\n",
    "print(\"\\nConfusion Matrix:\")\n",
    "print(confusion_matrix(y_test, y_pred))\n",
    "\n",
    "# Detailed Classification Report\n",
    "print(\"\\nClassification Report:\")\n",
    "print(classification_report(y_test, y_pred))"
   ]
  },
  {
   "cell_type": "markdown",
   "id": "be340cee",
   "metadata": {},
   "source": [
    "Visual performance check"
   ]
  },
  {
   "cell_type": "code",
   "execution_count": 41,
   "id": "26e6069f",
   "metadata": {},
   "outputs": [
    {
     "data": {
      "image/png": "[encoded data removed]",
      "text/plain": [
       "<Figure size 640x480 with 1 Axes>"
      ]
     },
     "metadata": {},
     "output_type": "display_data"
    },
    {
     "data": {
      "image/png": "[encoded data removed]",
      "text/plain": [
       "<Figure size 640x480 with 2 Axes>"
      ]
     },
     "metadata": {},
     "output_type": "display_data"
    }
   ],
   "source": [
    "import matplotlib.pyplot as plt\n",
    "from sklearn.metrics import RocCurveDisplay, ConfusionMatrixDisplay\n",
    "\n",
    "# ROC Curve\n",
    "RocCurveDisplay.from_estimator(best_knn, X_test, y_test)\n",
    "plt.title(\"KNN ROC Curve\")\n",
    "plt.show()\n",
    "\n",
    "# Confusion Matrix Heatmap\n",
    "ConfusionMatrixDisplay.from_estimator(best_knn, X_test, y_test, cmap=plt.cm.Blues)\n",
    "plt.title(\"KNN Confusion Matrix\")\n",
    "plt.show()"
   ]
  },
  {
   "cell_type": "code",
   "execution_count": 42,
   "id": "75e7b432",
   "metadata": {},
   "outputs": [
    {
     "name": "stdout",
     "output_type": "stream",
     "text": [
      "Model saved as knn_fraud_model.pkl\n"
     ]
    }
   ],
   "source": [
    "import joblib\n",
    "\n",
    "# Save the trained KNN model\n",
    "joblib.dump(best_knn, \"knn_fraud_model.pkl\")\n",
    "print(\"Model saved as knn_fraud_model.pkl\")"
   ]
  },
  {
   "cell_type": "code",
   "execution_count": 43,
   "id": "8ea0cd0a",
   "metadata": {},
   "outputs": [],
   "source": [
    "# Load the saved KNN model\n",
    "loaded_knn = joblib.load(\"knn_fraud_model.pkl\")\n",
    "\n",
    "# Use it for prediction\n",
    "y_new_pred = loaded_knn.predict(X_test)"
   ]
  },
  {
   "cell_type": "markdown",
   "id": "b70cc1ae",
   "metadata": {},
   "source": [
    "# test"
   ]
  },
  {
   "cell_type": "code",
   "execution_count": 44,
   "id": "f4ff50e4",
   "metadata": {},
   "outputs": [
    {
     "name": "stdout",
     "output_type": "stream",
     "text": [
      "Predictions saved to predicted_claims.csv\n"
     ]
    }
   ],
   "source": [
    "import pandas as pd\n",
    "import joblib\n",
    "\n",
    "# 1. Load the saved KNN model\n",
    "model = joblib.load(\"knn_fraud_model.pkl\")\n",
    "\n",
    "# 2. Load new incoming claims data\n",
    "new_data = pd.read_csv(\"dataset3.csv\")\n",
    "\n",
    "# 3. Preprocess new data (must match training preprocessing)\n",
    "#    - Drop the same columns as before\n",
    "drop_cols = ['Claim_ID', 'Policy_Num', 'Vehicle_Registration',\n",
    "             'Bind_Date1', 'Policy_Start_Date', 'Policy_Expiry_Date',\n",
    "             'Accident_Date', 'Claims_Date', 'DL_Expiry_Date']\n",
    "new_data = new_data.drop(columns=drop_cols)\n",
    "\n",
    "#    - Handle missing values (use median/mode)\n",
    "for col in new_data.select_dtypes(include=['float64', 'int64']).columns:\n",
    "    new_data[col] = new_data[col].fillna(new_data[col].median())\n",
    "\n",
    "for col in new_data.select_dtypes(include=['object']).columns:\n",
    "    new_data[col] = new_data[col].fillna(new_data[col].mode()[0])\n",
    "\n",
    "#    - One-hot encode categorical variables (align with training columns)\n",
    "new_data = pd.get_dummies(new_data)\n",
    "\n",
    "#    - Align columns with the training set (add missing columns as 0)\n",
    "for col in X_train.columns:\n",
    "    if col not in new_data.columns:\n",
    "        new_data[col] = 0\n",
    "\n",
    "#    - Ensure correct column order\n",
    "new_data = new_data[X_train.columns]\n",
    "\n",
    "# 4. Predict fraud probability and class\n",
    "predictions = model.predict(new_data)\n",
    "pred_prob = model.predict_proba(new_data)[:, 1]\n",
    "\n",
    "# 5. Save results\n",
    "new_data['Fraud_Prediction'] = predictions\n",
    "new_data['Fraud_Probability'] = pred_prob\n",
    "\n",
    "new_data.to_csv(\"predicted_claims.csv\", index=False)\n",
    "print(\"Predictions saved to predicted_claims.csv\")\n"
   ]
  },
  {
   "cell_type": "code",
   "execution_count": 47,
   "id": "5bbaf81f",
   "metadata": {},
   "outputs": [
    {
     "name": "stdout",
     "output_type": "stream",
     "text": [
      "Accuracy: 0.94895\n",
      "Precision: 0.945676964544889\n",
      "Recall: 0.8573308270676692\n",
      "F1 Score: 0.8993394459232968\n",
      "ROC-AUC: 0.9827144240027862\n"
     ]
    }
   ],
   "source": [
    "# Load the test dataset again\n",
    "test_data = pd.read_csv(\"dataset2.csv\")\n",
    "\n",
    "# Keep a copy of true labels for evaluation\n",
    "# Convert true labels to 0/1 format\n",
    "y_true = y_true.map({'N': 0, 'Y': 1})\n",
    "\n",
    "# Drop target column from test data before prediction\n",
    "test_data_input = test_data.drop(columns=['Fraud_Ind'])\n",
    "\n",
    "# Use the same pipeline steps we built for new claims\n",
    "drop_cols = ['Claim_ID', 'Policy_Num', 'Vehicle_Registration',\n",
    "             'Bind_Date1', 'Policy_Start_Date', 'Policy_Expiry_Date',\n",
    "             'Accident_Date', 'Claims_Date', 'DL_Expiry_Date']\n",
    "test_data_input = test_data_input.drop(columns=drop_cols)\n",
    "\n",
    "for col in test_data_input.select_dtypes(include=['float64', 'int64']).columns:\n",
    "    test_data_input[col] = test_data_input[col].fillna(test_data_input[col].median())\n",
    "\n",
    "for col in test_data_input.select_dtypes(include=['object']).columns:\n",
    "    test_data_input[col] = test_data_input[col].fillna(test_data_input[col].mode()[0])\n",
    "\n",
    "# One-hot encode\n",
    "test_data_input = pd.get_dummies(test_data_input)\n",
    "\n",
    "# Align columns with training data\n",
    "for col in X_train.columns:\n",
    "    if col not in test_data_input.columns:\n",
    "        test_data_input[col] = 0\n",
    "\n",
    "test_data_input = test_data_input[X_train.columns]\n",
    "\n",
    "# Load the saved KNN model\n",
    "from joblib import load\n",
    "knn_model = load(\"knn_fraud_model.pkl\")\n",
    "\n",
    "# Predict\n",
    "y_pred = knn_model.predict(test_data_input)\n",
    "y_prob = knn_model.predict_proba(test_data_input)[:, 1]\n",
    "\n",
    "# Evaluate\n",
    "from sklearn.metrics import accuracy_score, precision_score, recall_score, f1_score, roc_auc_score\n",
    "\n",
    "print(\"Accuracy:\", accuracy_score(y_true, y_pred))\n",
    "print(\"Precision:\", precision_score(y_true, y_pred))\n",
    "print(\"Recall:\", recall_score(y_true, y_pred))\n",
    "print(\"F1 Score:\", f1_score(y_true, y_pred))\n",
    "print(\"ROC-AUC:\", roc_auc_score(y_true, y_prob))\n"
   ]
  },
  {
   "cell_type": "code",
   "execution_count": 48,
   "id": "fad51240",
   "metadata": {},
   "outputs": [],
   "source": [
    "import pandas as pd\n",
    "\n",
    "# Save feature names used during training\n",
    "pd.DataFrame(X_train.columns, columns=[\"columns\"]).to_csv(\"X_train_columns.csv\", index=False)"
   ]
  }
 ],
 "metadata": {
  "kernelspec": {
   "display_name": "Python 3",
   "language": "python",
   "name": "python3"
  },
  "language_info": {
   "codemirror_mode": {
    "name": "ipython",
    "version": 3
   },
   "file_extension": ".py",
   "mimetype": "text/x-python",
   "name": "python",
   "nbconvert_exporter": "python",
   "pygments_lexer": "ipython3",
   "version": "3.13.5"
  }
 },
 "nbformat": 4,
 "nbformat_minor": 5
}
